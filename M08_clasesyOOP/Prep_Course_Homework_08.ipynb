{
 "cells": [
  {
   "attachments": {},
   "cell_type": "markdown",
   "metadata": {},
   "source": [
    "## Clases y Programación Orientada a Objetos"
   ]
  },
  {
   "attachments": {},
   "cell_type": "markdown",
   "metadata": {},
   "source": [
    "1) Crear la clase vehículo que contenga los atributos:<br>\n",
    "Color<br>\n",
    "Si es moto, auto, camioneta ó camión<br>\n",
    "Cilindrada del motor"
   ]
  },
  {
   "cell_type": "code",
   "execution_count": 1,
   "metadata": {},
   "outputs": [],
   "source": [
    "class Vehiculo:\n",
    "    def __init__(self,Color,Tipo,Motor):\n",
    "        self.Color=Color\n",
    "        self.tipo=Tipo\n",
    "        self.motor=Motor"
   ]
  },
  {
   "attachments": {},
   "cell_type": "markdown",
   "metadata": {},
   "source": [
    "2) A la clase Vehiculo creada en el punto 1, agregar los siguientes métodos:<br>\n",
    "Acelerar<br>\n",
    "Frenar<br>\n",
    "Doblar<br>"
   ]
  },
  {
   "cell_type": "code",
   "execution_count": 2,
   "metadata": {},
   "outputs": [],
   "source": [
    "class Vehiculo:\n",
    "    def __init__(self,Color,Tipo,Motor):\n",
    "        self.Color=Color\n",
    "        self.Tipo=Tipo\n",
    "        self.Motor=Motor\n",
    "        self.Velocidad=0\n",
    "        self.Direccion=0\n",
    "\n",
    "    def Acelerar(self,Vel):\n",
    "        self.Velocidad+=Vel\n",
    "    def Frenar(self,Vel):\n",
    "        self.Velocidad-=Vel\n",
    "    def Girar(self,Grados):\n",
    "        self.Girar+=Grados"
   ]
  },
  {
   "attachments": {},
   "cell_type": "markdown",
   "metadata": {},
   "source": [
    "3) Instanciar 3 objetos de la clase vehículo y ejecutar sus métodos, probar luego el resultado"
   ]
  },
  {
   "cell_type": "code",
   "execution_count": 3,
   "metadata": {},
   "outputs": [],
   "source": [
    "V1=Vehiculo(\"Blanco\",\"Auto\",1000)\n",
    "V2=Vehiculo(\"Negro\",\"Moto\",250)\n",
    "V3=Vehiculo(\"Gris\",\"Auto\",1200)\n",
    "#Subir de velocidad al vehículo 1\n",
    "V1.Acelerar(15)\n",
    "#Subir de velocidad al vehículo 2\n",
    "V2.Acelerar(25)\n",
    "#Subir de velocidad al vehículo 3\n",
    "V3.Acelerar(20)"
   ]
  },
  {
   "cell_type": "code",
   "execution_count": 4,
   "metadata": {},
   "outputs": [
    {
     "name": "stdout",
     "output_type": "stream",
     "text": [
      "15\n",
      "25\n",
      "20\n"
     ]
    }
   ],
   "source": [
    "print(V1.Velocidad)\n",
    "print(V2.Velocidad)\n",
    "print(V3.Velocidad)"
   ]
  },
  {
   "attachments": {},
   "cell_type": "markdown",
   "metadata": {},
   "source": [
    "4) Agregar a la clase Vehiculo, un método que muestre su estado, es decir, a que velocidad se encuentra y su dirección. Y otro método que muestre color, tipo y cilindrada"
   ]
  },
  {
   "cell_type": "code",
   "execution_count": 5,
   "metadata": {},
   "outputs": [],
   "source": [
    "class Vehiculo:\n",
    "    def __init__(self,Color,Tipo,Motor):\n",
    "        self.Color=Color\n",
    "        self.Tipo=Tipo\n",
    "        self.Motor=Motor\n",
    "        self.Velocidad=0\n",
    "        self.Direccion=0\n",
    "\n",
    "    def Acelerar(self,Vel):\n",
    "        self.Velocidad+=Vel\n",
    "    def Frenar(self,Vel):\n",
    "        self.Velocidad-=Vel\n",
    "    def Girar(self,Grados):\n",
    "        self.Girar+=Grados\n",
    "    def Estado(self):\n",
    "        print(\">> Velocidad = \",self.Velocidad,\" Km/h\")\n",
    "        print(\">> Direccion = \",self.Direccion,\"°\")"
   ]
  },
  {
   "cell_type": "code",
   "execution_count": 6,
   "metadata": {},
   "outputs": [
    {
     "name": "stdout",
     "output_type": "stream",
     "text": [
      ">> Velocidad =  15  Km/h\n",
      ">> Direccion =  0 °\n",
      ">> Velocidad =  25  Km/h\n",
      ">> Direccion =  0 °\n",
      ">> Velocidad =  20  Km/h\n",
      ">> Direccion =  0 °\n"
     ]
    }
   ],
   "source": [
    "V1=Vehiculo(\"Blanco\",\"Auto\",1000)\n",
    "V2=Vehiculo(\"Negro\",\"Moto\",250)\n",
    "V3=Vehiculo(\"Gris\",\"Auto\",1200)\n",
    "#Subir de velocidad al vehículo 1\n",
    "V1.Acelerar(15)\n",
    "#Subir de velocidad al vehículo 2\n",
    "V2.Acelerar(25)\n",
    "#Subir de velocidad al vehículo 3\n",
    "V3.Acelerar(20)\n",
    "V1.Estado()\n",
    "V2.Estado()\n",
    "V3.Estado()"
   ]
  },
  {
   "attachments": {},
   "cell_type": "markdown",
   "metadata": {},
   "source": [
    "5) Crear una clase que permita utilizar las funciones creadas en la práctica del módulo 7<br>\n",
    "Verificar Primo<br>\n",
    "Valor modal<br>\n",
    "Conversión grados<br>\n",
    "Factorial<br>"
   ]
  },
  {
   "cell_type": "code",
   "execution_count": 15,
   "metadata": {},
   "outputs": [],
   "source": [
    "class Funciones:\n",
    "    def __init__(self) -> None:\n",
    "        pass\n",
    "    \n",
    "    def EsPrimo(self,Num):\n",
    "        Res=True\n",
    "        if(Num>1):\n",
    "            for K in range(2,Num):\n",
    "                if(Num%K==0):\n",
    "                    Res=False\n",
    "                    break\n",
    "        else:\n",
    "            Res=False\n",
    "        return Res\n",
    "    \n",
    "    def ValorModal(self,Lista):\n",
    "        Numeros=[0]*100\n",
    "        for K in range(len(Lista)):\n",
    "            Numeros[Lista[K]]=Numeros[Lista[K]]+1\n",
    "        X=max(Numeros)\n",
    "        return(Numeros.index(X))\n",
    "    \n",
    "    def Factorial(self,Num):\n",
    "        if(type(Num)==int):\n",
    "            if(Num>=0):\n",
    "                if(Num<=1):\n",
    "                    print(Num,\"! = \",1)\n",
    "                else:\n",
    "                    Fact=1\n",
    "                    for K in range(2,Num+1):\n",
    "                        Fact=Fact*K\n",
    "                    print(Num,\"! = \",Fact)\n",
    "            else:\n",
    "                print(\"El número debe ser mayor o igual a cero\")\n",
    "        else:\n",
    "            print(\"El número debe ser entero positivo o cero\")\n",
    "\n",
    "    def conversion_grados(self,valor, origen, destino):\n",
    "        # Función que realiza la conversión de grados entre diferentes unidades\n",
    "        # Parámetros:\n",
    "        # - valor: el valor numérico a convertir\n",
    "        # - origen: la unidad de origen (celsius, farenheit, kelvin)\n",
    "        # - destino: la unidad de destino (celsius, farenheit, kelvin)\n",
    "\n",
    "        if origen == 'celsius':\n",
    "            if destino == 'celsius':\n",
    "                valor_destino = valor  # Si la unidad de origen y destino es la misma, no se realiza ninguna conversión\n",
    "            elif destino == 'farenheit':\n",
    "                valor_destino = (valor * 9 / 5) + 32  # Conversión de Celsius a Farenheit\n",
    "            elif destino == 'kelvin':\n",
    "                valor_destino = valor + 273.15  # Conversión de Celsius a Kelvin\n",
    "            else:\n",
    "                print('Parámetro de Destino incorrecto')  # Mensaje de error si el parámetro de destino no es válido\n",
    "        elif origen == 'farenheit':\n",
    "            if destino == 'celsius':\n",
    "                valor_destino = (valor - 32) * 5 / 9  # Conversión de Farenheit a Celsius\n",
    "            elif destino == 'farenheit':\n",
    "                valor_destino = valor  # Si la unidad de origen y destino es la misma, no se realiza ninguna conversión\n",
    "            elif destino == 'kelvin':\n",
    "                valor_destino = ((valor - 32) * 5 / 9) + 273.15  # Conversión de Farenheit a Kelvin\n",
    "            else:\n",
    "                print('Parámetro de Destino incorrecto')  # Mensaje de error si el parámetro de destino no es válido\n",
    "        elif origen == 'kelvin':\n",
    "            if destino == 'celsius':\n",
    "                valor_destino = valor - 273.15  # Conversión de Kelvin a Celsius\n",
    "            elif destino == 'farenheit':\n",
    "                valor_destino = ((valor - 273.15) * 9 / 5) + 32  # Conversión de Kelvin a Farenheit\n",
    "            elif destino == 'kelvin':\n",
    "                valor_destino = valor  # Si la unidad de origen y destino es la misma, no se realiza ninguna conversión\n",
    "            else:\n",
    "                print('Parámetro de Destino incorrecto')  # Mensaje de error si el parámetro de destino no es válido\n",
    "        else:\n",
    "            print('Parámetro de Origen incorrecto')  # Mensaje de error si el parámetro de origen no es válido\n",
    "        \n",
    "        return valor_destino  # Retorna el valor convertido en la unidad de destino\n"
   ]
  },
  {
   "attachments": {},
   "cell_type": "markdown",
   "metadata": {},
   "source": [
    "6) Probar las funciones incorporadas en la clase del punto 5"
   ]
  },
  {
   "cell_type": "code",
   "execution_count": 17,
   "metadata": {},
   "outputs": [
    {
     "name": "stdout",
     "output_type": "stream",
     "text": [
      "5 ! =  120\n",
      "1\n"
     ]
    },
    {
     "data": {
      "text/plain": [
       "353.15"
      ]
     },
     "execution_count": 17,
     "metadata": {},
     "output_type": "execute_result"
    }
   ],
   "source": [
    "F=Funciones()\n",
    "F.EsPrimo(7)\n",
    "F.Factorial(5)\n",
    "print(F.ValorModal([1,2,1,2,3,1,1,2,1,2,3,1,3,2,21,2,1,1]))\n",
    "F.conversion_grados(80,\"celsius\",\"kelvin\")"
   ]
  },
  {
   "attachments": {},
   "cell_type": "markdown",
   "metadata": {},
   "source": [
    "7) Es necesario que la clase creada en el punto 5 contenga una lista, sobre la cual se apliquen las funciones incorporadas"
   ]
  },
  {
   "cell_type": "code",
   "execution_count": null,
   "metadata": {},
   "outputs": [],
   "source": []
  },
  {
   "attachments": {},
   "cell_type": "markdown",
   "metadata": {},
   "source": [
    "8) Crear un archivo .py aparte y ubicar allí la clase generada en el punto anterior. Luego realizar la importación del módulo y probar alguna de sus funciones"
   ]
  },
  {
   "cell_type": "code",
   "execution_count": 19,
   "metadata": {},
   "outputs": [],
   "source": [
    "from herramientas import *"
   ]
  },
  {
   "cell_type": "code",
   "execution_count": 20,
   "metadata": {},
   "outputs": [
    {
     "name": "stdout",
     "output_type": "stream",
     "text": [
      "El elemento 5 SI es un numero primo\n",
      "El elemento 6 NO es un numero primo\n",
      "El elemento 7 SI es un numero primo\n",
      "El elemento 8 NO es un numero primo\n",
      "El elemento 9 NO es un numero primo\n",
      "El elemento 10 NO es un numero primo\n",
      "El elemento 11 SI es un numero primo\n",
      "El elemento 12 NO es un numero primo\n",
      "El elemento 13 SI es un numero primo\n",
      "El elemento 14 NO es un numero primo\n",
      "El elemento 15 NO es un numero primo\n"
     ]
    }
   ],
   "source": [
    "H1=Herramientas([5,6,7,8,9,10,11,12,13,14,15])\n",
    "H1.verifica_primo()"
   ]
  }
 ],
 "metadata": {
  "interpreter": {
   "hash": "c85384e4cb51c8b72350f3a8712cc8351fdc3955e32a27f9b60c6242ab125f01"
  },
  "kernelspec": {
   "display_name": "Python 3 (ipykernel)",
   "language": "python",
   "name": "python3"
  },
  "language_info": {
   "codemirror_mode": {
    "name": "ipython",
    "version": 3
   },
   "file_extension": ".py",
   "mimetype": "text/x-python",
   "name": "python",
   "nbconvert_exporter": "python",
   "pygments_lexer": "ipython3",
   "version": "3.12.0"
  }
 },
 "nbformat": 4,
 "nbformat_minor": 4
}
