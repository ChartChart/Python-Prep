{
 "cells": [
  {
   "attachments": {},
   "cell_type": "markdown",
   "metadata": {},
   "source": [
    "## Flujos de Control"
   ]
  },
  {
   "attachments": {},
   "cell_type": "markdown",
   "metadata": {},
   "source": [
    "1) Crear una variable que contenga un elemento del conjunto de números enteros y luego imprimir por pantalla si es mayor o menor a cero"
   ]
  },
  {
   "cell_type": "code",
   "execution_count": 2,
   "metadata": {},
   "outputs": [
    {
     "name": "stdout",
     "output_type": "stream",
     "text": [
      "La variable es mayor a cero\n"
     ]
    }
   ],
   "source": [
    "A=7\n",
    "if(A>0):\n",
    "    print(\"La variable es mayor a cero\")\n",
    "elif(A<0):\n",
    "    print(\"La variable es menor a cero\")\n",
    "else:\n",
    "    print(\"La variable es igual a cero\")"
   ]
  },
  {
   "attachments": {},
   "cell_type": "markdown",
   "metadata": {},
   "source": [
    "2) Crear dos variables y un condicional que informe si son del mismo tipo de dato"
   ]
  },
  {
   "cell_type": "code",
   "execution_count": 3,
   "metadata": {},
   "outputs": [
    {
     "name": "stdout",
     "output_type": "stream",
     "text": [
      "Las variables son de diferente tipo\n"
     ]
    }
   ],
   "source": [
    "A=5\n",
    "B=3.2\n",
    "if(type(A)==type(B)):\n",
    "    print(\"Las variables son del mismo tipo\")\n",
    "else:\n",
    "    print(\"Las variables son de diferente tipo\")"
   ]
  },
  {
   "attachments": {},
   "cell_type": "markdown",
   "metadata": {},
   "source": [
    "3) Para los valores enteros del 1 al 20, imprimir por pantalla si es par o impar"
   ]
  },
  {
   "cell_type": "code",
   "execution_count": 4,
   "metadata": {},
   "outputs": [
    {
     "name": "stdout",
     "output_type": "stream",
     "text": [
      "1  es IMPAR\n",
      "2  es PAR\n",
      "3  es IMPAR\n",
      "4  es PAR\n",
      "5  es IMPAR\n",
      "6  es PAR\n",
      "7  es IMPAR\n",
      "8  es PAR\n",
      "9  es IMPAR\n",
      "10  es PAR\n",
      "11  es IMPAR\n",
      "12  es PAR\n",
      "13  es IMPAR\n",
      "14  es PAR\n",
      "15  es IMPAR\n",
      "16  es PAR\n",
      "17  es IMPAR\n",
      "18  es PAR\n",
      "19  es IMPAR\n",
      "20  es PAR\n"
     ]
    }
   ],
   "source": [
    "for K in range(1,21):\n",
    "    if(K%2==0):\n",
    "        print(K,\" es PAR\")\n",
    "    else:\n",
    "        print(K,\" es IMPAR\")"
   ]
  },
  {
   "attachments": {},
   "cell_type": "markdown",
   "metadata": {},
   "source": [
    "4) En un ciclo for mostrar para los valores entre 0 y 5 el resultado de elevarlo a la potencia igual a 3"
   ]
  },
  {
   "cell_type": "code",
   "execution_count": 6,
   "metadata": {},
   "outputs": [
    {
     "name": "stdout",
     "output_type": "stream",
     "text": [
      "0 elevado a la potencia 3 es  0\n",
      "1 elevado a la potencia 3 es  1\n",
      "2 elevado a la potencia 3 es  8\n",
      "3 elevado a la potencia 3 es  27\n",
      "4 elevado a la potencia 3 es  64\n",
      "5 elevado a la potencia 3 es  125\n"
     ]
    }
   ],
   "source": [
    "for K in range(6):\n",
    "    print(K,\"elevado a la potencia 3 es \",K**3)"
   ]
  },
  {
   "attachments": {},
   "cell_type": "markdown",
   "metadata": {},
   "source": [
    "5) Crear una variable que contenga un número entero y realizar un ciclo for la misma cantidad de ciclos"
   ]
  },
  {
   "cell_type": "code",
   "execution_count": 7,
   "metadata": {},
   "outputs": [
    {
     "name": "stdout",
     "output_type": "stream",
     "text": [
      "6\n"
     ]
    }
   ],
   "source": [
    "Var=7\n",
    "for K in range(Var):\n",
    "    pass\n",
    "print(K)"
   ]
  },
  {
   "attachments": {},
   "cell_type": "markdown",
   "metadata": {},
   "source": [
    "6) Utilizar un ciclo while para realizar el factorial de un número guardado en una variable, sólo si la variable contiene un número entero mayor a 0"
   ]
  },
  {
   "cell_type": "code",
   "execution_count": 12,
   "metadata": {},
   "outputs": [
    {
     "name": "stdout",
     "output_type": "stream",
     "text": [
      "El factorial de  6  es  720\n"
     ]
    }
   ],
   "source": [
    "N=6\n",
    "if((type(N)==int)and(N>0)):\n",
    "    Prod=1\n",
    "    for K in range(1,N+1):\n",
    "        Prod=Prod*K\n",
    "print(\"El factorial de \",N,\" es \",Prod)"
   ]
  },
  {
   "attachments": {},
   "cell_type": "markdown",
   "metadata": {},
   "source": [
    "7) Crear un ciclo for dentro de un ciclo while"
   ]
  },
  {
   "cell_type": "code",
   "execution_count": 16,
   "metadata": {},
   "outputs": [
    {
     "name": "stdout",
     "output_type": "stream",
     "text": [
      "Ciclo WHILE, iteración  0\n",
      "   Ciclo FOR, iteración  0\n",
      "   Ciclo FOR, iteración  1\n",
      "   Ciclo FOR, iteración  2\n",
      "Ciclo WHILE, iteración  1\n",
      "   Ciclo FOR, iteración  0\n",
      "   Ciclo FOR, iteración  1\n",
      "   Ciclo FOR, iteración  2\n",
      "Ciclo WHILE, iteración  2\n",
      "   Ciclo FOR, iteración  0\n",
      "   Ciclo FOR, iteración  1\n",
      "   Ciclo FOR, iteración  2\n"
     ]
    }
   ],
   "source": [
    "X=0\n",
    "while(X<3):\n",
    "    print(\"Ciclo WHILE, iteración \",X)\n",
    "    for K in range(3):\n",
    "        print(\"   Ciclo FOR, iteración \",K)\n",
    "    X=X+1"
   ]
  },
  {
   "attachments": {},
   "cell_type": "markdown",
   "metadata": {},
   "source": [
    "8) Crear un ciclo while dentro de un ciclo for"
   ]
  },
  {
   "cell_type": "code",
   "execution_count": 17,
   "metadata": {},
   "outputs": [
    {
     "name": "stdout",
     "output_type": "stream",
     "text": [
      "Ciclo FOR - Iteración  0\n",
      ">>>Ciclo WHILE - Iteración  0\n",
      ">>>Ciclo WHILE - Iteración  1\n",
      ">>>Ciclo WHILE - Iteración  2\n",
      "Ciclo FOR - Iteración  1\n",
      ">>>Ciclo WHILE - Iteración  0\n",
      ">>>Ciclo WHILE - Iteración  1\n",
      ">>>Ciclo WHILE - Iteración  2\n",
      "Ciclo FOR - Iteración  2\n",
      ">>>Ciclo WHILE - Iteración  0\n",
      ">>>Ciclo WHILE - Iteración  1\n",
      ">>>Ciclo WHILE - Iteración  2\n"
     ]
    }
   ],
   "source": [
    "for K in range(3):\n",
    "    print(\"Ciclo FOR - Iteración \",K)\n",
    "    Y=0\n",
    "    while(Y<3):\n",
    "        print(\">>>Ciclo WHILE - Iteración \",Y)\n",
    "        Y=Y+1"
   ]
  },
  {
   "attachments": {},
   "cell_type": "markdown",
   "metadata": {},
   "source": [
    "9) Imprimir los números primos existentes entre 0 y 30"
   ]
  },
  {
   "cell_type": "code",
   "execution_count": 19,
   "metadata": {},
   "outputs": [
    {
     "name": "stdout",
     "output_type": "stream",
     "text": [
      "0\n",
      "1\n",
      "2\n",
      "3\n",
      "5\n",
      "7\n",
      "11\n",
      "13\n",
      "17\n",
      "19\n",
      "23\n",
      "29\n"
     ]
    }
   ],
   "source": [
    "for Num in range(31):\n",
    "    Primo=True\n",
    "    for K in range(2,Num):\n",
    "        if(Num%K==0):\n",
    "            Primo=False\n",
    "    if(Primo==True):\n",
    "        print(Num)\n",
    "    else:\n",
    "        Primo=True\n",
    "    Num+=1"
   ]
  },
  {
   "attachments": {},
   "cell_type": "markdown",
   "metadata": {},
   "source": [
    "10) ¿Se puede mejorar el proceso del punto 9? Utilizar las sentencias break y/ó continue para tal fin"
   ]
  },
  {
   "cell_type": "code",
   "execution_count": 20,
   "metadata": {},
   "outputs": [
    {
     "name": "stdout",
     "output_type": "stream",
     "text": [
      "0\n",
      "1\n",
      "2\n",
      "3\n",
      "5\n",
      "7\n",
      "11\n",
      "13\n",
      "17\n",
      "19\n",
      "23\n",
      "29\n"
     ]
    }
   ],
   "source": [
    "for Num in range(31):\n",
    "    Primo=True\n",
    "    for K in range(2,Num):\n",
    "        if(Num%K==0):\n",
    "            Primo=False\n",
    "            break\n",
    "    if(Primo==True):\n",
    "        print(Num)\n",
    "    else:\n",
    "        Primo=True\n",
    "    Num+=1"
   ]
  },
  {
   "attachments": {},
   "cell_type": "markdown",
   "metadata": {},
   "source": [
    "11) En los puntos 9 y 10, se diseño un código que encuentra números primos y además se lo optimizó. ¿Es posible saber en qué medida se optimizó?"
   ]
  },
  {
   "cell_type": "code",
   "execution_count": 21,
   "metadata": {},
   "outputs": [
    {
     "name": "stdout",
     "output_type": "stream",
     "text": [
      "===== SIN BREAK =====\n",
      "0\n",
      "1\n",
      "2\n",
      "3\n",
      "5\n",
      "7\n",
      "11\n",
      "13\n",
      "17\n",
      "19\n",
      "23\n",
      "29\n",
      ">> Total de ciclos SIN BREAK ->  406\n",
      "---------------------------------------\n",
      "===== CON BREAK =====\n",
      "0\n",
      "1\n",
      "2\n",
      "3\n",
      "5\n",
      "7\n",
      "11\n",
      "13\n",
      "17\n",
      "19\n",
      "23\n",
      "29\n",
      ">> Total de ciclos CON BREAK ->  135\n",
      "\n",
      "Se optimizo en  0.33251231527093594 % de ciclos aplicando BREAK\n"
     ]
    }
   ],
   "source": [
    "#SIN BREAK\n",
    "print(\"===== SIN BREAK =====\")\n",
    "ContSinBreak=0\n",
    "for Num in range(31):\n",
    "    Primo=True\n",
    "    for K in range(2,Num):\n",
    "        ContSinBreak+=1\n",
    "        if(Num%K==0):\n",
    "            Primo=False\n",
    "    if(Primo==True):\n",
    "        print(Num)\n",
    "    else:\n",
    "        Primo=True\n",
    "    Num+=1\n",
    "print(\">> Total de ciclos SIN BREAK -> \",ContSinBreak)\n",
    "print(\"---------------------------------------\")\n",
    "#CON BREAK\n",
    "print(\"===== CON BREAK =====\")\n",
    "ContConBreak=0\n",
    "for Num in range(31):\n",
    "    Primo=True\n",
    "    for K in range(2,Num):\n",
    "        ContConBreak+=1\n",
    "        if(Num%K==0):\n",
    "            Primo=False\n",
    "            break\n",
    "    if(Primo==True):\n",
    "        print(Num)\n",
    "    else:\n",
    "        Primo=True\n",
    "    Num+=1\n",
    "Optimizada=ContConBreak/ContSinBreak\n",
    "print(\">> Total de ciclos CON BREAK -> \",ContConBreak)\n",
    "print(\"\")\n",
    "print(\"Se optimizo en \",Optimizada,\"% de ciclos aplicando BREAK\")"
   ]
  },
  {
   "attachments": {},
   "cell_type": "markdown",
   "metadata": {},
   "source": [
    "12) Aplicando continue, armar un ciclo while que solo imprima los valores divisibles por 12, dentro del rango de números de 100 a 300"
   ]
  },
  {
   "cell_type": "code",
   "execution_count": 23,
   "metadata": {},
   "outputs": [
    {
     "name": "stdout",
     "output_type": "stream",
     "text": [
      "108  es divisible por 12\n",
      "120  es divisible por 12\n",
      "132  es divisible por 12\n",
      "144  es divisible por 12\n",
      "156  es divisible por 12\n",
      "168  es divisible por 12\n",
      "180  es divisible por 12\n",
      "192  es divisible por 12\n",
      "204  es divisible por 12\n",
      "216  es divisible por 12\n",
      "228  es divisible por 12\n",
      "240  es divisible por 12\n",
      "252  es divisible por 12\n",
      "264  es divisible por 12\n",
      "276  es divisible por 12\n",
      "288  es divisible por 12\n",
      "300  es divisible por 12\n"
     ]
    }
   ],
   "source": [
    "K=99\n",
    "while(K<301):\n",
    "    K+=1\n",
    "    if(K%12!=0):\n",
    "        continue\n",
    "    print(K,\" es divisible por 12\")"
   ]
  },
  {
   "attachments": {},
   "cell_type": "markdown",
   "metadata": {},
   "source": [
    "13) Utilizar la función **input()** que permite hacer ingresos por teclado, para encontrar números primos y dar la opción al usario de buscar el siguiente"
   ]
  },
  {
   "cell_type": "code",
   "execution_count": null,
   "metadata": {},
   "outputs": [],
   "source": []
  },
  {
   "cell_type": "code",
   "execution_count": null,
   "metadata": {},
   "outputs": [],
   "source": [
    "print(\"---Encontrando números primos---\")\n",
    "N = 1\n",
    "Opc = 1\n",
    "primo = True\n",
    "while (Opc == 1):\n",
    "    for div in range(2, N):\n",
    "        if (N % div == 0):\n",
    "            primo = False\n",
    "            break\n",
    "    if (primo):\n",
    "        print(N)\n",
    "        print('¿Desea encontrar el siguiente número primo?')\n",
    "        if (input() != '1'):\n",
    "            print('Se finaliza el proceso')\n",
    "            break\n",
    "    else:\n",
    "        primo = True\n",
    "    N += 1"
   ]
  },
  {
   "attachments": {},
   "cell_type": "markdown",
   "metadata": {},
   "source": [
    "14) Crear un ciclo while que encuentre dentro del rango de 100 a 300 el primer número divisible por 3 y además múltiplo de 6"
   ]
  },
  {
   "cell_type": "code",
   "execution_count": null,
   "metadata": {},
   "outputs": [],
   "source": []
  }
 ],
 "metadata": {
  "interpreter": {
   "hash": "c85384e4cb51c8b72350f3a8712cc8351fdc3955e32a27f9b60c6242ab125f01"
  },
  "kernelspec": {
   "display_name": "Python 3 (ipykernel)",
   "language": "python",
   "name": "python3"
  },
  "language_info": {
   "codemirror_mode": {
    "name": "ipython",
    "version": 3
   },
   "file_extension": ".py",
   "mimetype": "text/x-python",
   "name": "python",
   "nbconvert_exporter": "python",
   "pygments_lexer": "ipython3",
   "version": "3.12.0"
  }
 },
 "nbformat": 4,
 "nbformat_minor": 4
}
