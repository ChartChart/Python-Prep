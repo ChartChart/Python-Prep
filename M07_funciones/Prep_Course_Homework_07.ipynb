{
 "cells": [
  {
   "attachments": {},
   "cell_type": "markdown",
   "metadata": {},
   "source": [
    "## Funciones"
   ]
  },
  {
   "attachments": {},
   "cell_type": "markdown",
   "metadata": {},
   "source": [
    "1) Crear una función que reciba un número como parámetro y devuelva True si es primo y False si no lo es"
   ]
  },
  {
   "cell_type": "code",
   "execution_count": 6,
   "metadata": {},
   "outputs": [],
   "source": [
    "def EsPrimo(Num):\n",
    "    Res=True\n",
    "    if(Num>1):\n",
    "        for K in range(2,Num):\n",
    "            if(Num%K==0):\n",
    "                Res=False\n",
    "                break\n",
    "    else:\n",
    "        Res=False\n",
    "    return Res"
   ]
  },
  {
   "attachments": {},
   "cell_type": "markdown",
   "metadata": {},
   "source": [
    "2) Utilizando la función del punto 1, realizar otra función que reciba de parámetro una lista de números y devuelva sólo aquellos que son primos en otra lista"
   ]
  },
  {
   "cell_type": "code",
   "execution_count": 7,
   "metadata": {},
   "outputs": [],
   "source": [
    "def ProcesaLista(Lista):\n",
    "    Primos=[]\n",
    "    for Num in Lista:\n",
    "        if(EsPrimo(Num)==True):\n",
    "            Primos.append(Num)\n",
    "    return Primos"
   ]
  },
  {
   "cell_type": "code",
   "execution_count": 8,
   "metadata": {},
   "outputs": [
    {
     "name": "stdout",
     "output_type": "stream",
     "text": [
      "[2, 3, 5, 7, 11, 13, 17, 19]\n"
     ]
    }
   ],
   "source": [
    "Lista=[1,2,3,4,5,6,7,8,9,10,11,12,13,14,15,16,17,18,19,20]\n",
    "Primos=ProcesaLista(Lista)\n",
    "print(Primos)"
   ]
  },
  {
   "attachments": {},
   "cell_type": "markdown",
   "metadata": {},
   "source": [
    "3) Crear una función que al recibir una lista de números, devuelva el que más se repite y cuántas veces lo hace. Si hay más de un \"más repetido\", que devuelva cualquiera"
   ]
  },
  {
   "cell_type": "code",
   "execution_count": 9,
   "metadata": {},
   "outputs": [],
   "source": [
    "def Repetidos(Lista):\n",
    "    Numeros=[0]*100\n",
    "    for K in range(len(Lista)):\n",
    "        Numeros[Lista[K]]=Numeros[Lista[K]]+1\n",
    "    X=max(Numeros)\n",
    "    return(Numeros.index(X))"
   ]
  },
  {
   "cell_type": "code",
   "execution_count": 10,
   "metadata": {},
   "outputs": [
    {
     "name": "stdout",
     "output_type": "stream",
     "text": [
      "5\n"
     ]
    }
   ],
   "source": [
    "lis = [1,1,5,6,8,10,22,5,6,4,11,9,5]\n",
    "print(Repetidos(lis))"
   ]
  },
  {
   "attachments": {},
   "cell_type": "markdown",
   "metadata": {},
   "source": [
    "4) Crear una función que convierta entre grados Celsius, Farenheit y Kelvin<br>\n",
    "Fórmula 1\t: (°C × 9/5) + 32 = °F<br>\n",
    "Fórmula 2\t: °C + 273.15 = °K<br>\n",
    "Debe recibir 3 parámetros: el valor, la medida de orígen y la medida de destino\n"
   ]
  },
  {
   "cell_type": "code",
   "execution_count": 11,
   "metadata": {},
   "outputs": [],
   "source": [
    "def CelFaren(C):\n",
    "    return((C*(9/5))+32)\n",
    "def CelKel(C):\n",
    "    return(C+273.15)\n",
    "def FarenCel(F):\n",
    "    return(((5*F)-160)/9)\n",
    "def FarenKel(F):\n",
    "    return((((5*F)-160)/9)+273.15)\n",
    "def KelCel(K):\n",
    "    return(K-273.15)\n",
    "def KelFaren(K):\n",
    "    return(((K-273.15)*(9/5))+32)\n",
    "def Grados(Valor,Origen,Destino):\n",
    "    if(Origen==\"C\"):\n",
    "        #Celsius-Farenheit\n",
    "        if(Destino==\"F\"):\n",
    "            print(Valor,\"C° = \",CelFaren(Valor),\"F°\")\n",
    "        #Celsius-Kelvin\n",
    "        else:\n",
    "            print(Valor,\"C° = \",CelKel(Valor),\"K°\")\n",
    "    elif(Origen==\"F\"):\n",
    "        #Farenheit-Celsius\n",
    "        if(Destino==\"C\"):\n",
    "            print(Valor,\"F° = \",FarenCel(Valor),\"C°\")\n",
    "        #Farenheit-Kelvin\n",
    "        else:\n",
    "            print(Valor,\"F° = \",FarenKel(Valor),\"K°\")\n",
    "    else:\n",
    "        #Kelvin-Celsius\n",
    "        if(Destino==\"C\"):\n",
    "            print(Valor,\"K° = \",KelCel(Valor),\"C°\")\n",
    "        #Kelvin-Farenheit\n",
    "        else:\n",
    "            print(Valor,\"K° = \",KelFaren(Valor),\"F°\")"
   ]
  },
  {
   "cell_type": "code",
   "execution_count": 12,
   "metadata": {},
   "outputs": [],
   "source": [
    "def Main(Valor,Origen,Destino):\n",
    "    Gr=[\"C\",\"K\",\"F\"]\n",
    "    if((Origen in Gr)and(Origen in Gr)):\n",
    "        if(Origen==Destino):\n",
    "            print(Valor,Origen,\"° = \",Valor,Destino,\"°\")\n",
    "        else:\n",
    "            Grados(Valor,Origen,Destino)\n",
    "    else:\n",
    "        print(\"Error al seleccionar la unidad de medida\")"
   ]
  },
  {
   "cell_type": "code",
   "execution_count": 13,
   "metadata": {},
   "outputs": [
    {
     "name": "stdout",
     "output_type": "stream",
     "text": [
      "1 C ° =  1 C °\n",
      "1 C° =  274.15 K°\n",
      "1 C° =  33.8 F°\n",
      "1 K° =  -272.15 C°\n",
      "1 K ° =  1 K °\n",
      "1 K° =  -457.86999999999995 F°\n",
      "1 F° =  -17.22222222222222 C°\n",
      "1 F° =  255.92777777777775 K°\n",
      "1 F ° =  1 F °\n"
     ]
    }
   ],
   "source": [
    "Main(1, 'C', 'C')\n",
    "Main(1, 'C', 'K')\n",
    "Main(1, 'C', 'F')\n",
    "Main(1, 'K', 'C')\n",
    "Main(1, 'K', 'K')\n",
    "Main(1, 'K', 'F')\n",
    "Main(1, 'F', 'C')\n",
    "Main(1, 'F', 'K')\n",
    "Main(1, 'F', 'F')"
   ]
  },
  {
   "attachments": {},
   "cell_type": "markdown",
   "metadata": {},
   "source": [
    "5) Iterando una lista con los tres valores posibles de temperatura que recibe la función del punto 5, hacer un print para cada combinación de los mismos:"
   ]
  },
  {
   "cell_type": "code",
   "execution_count": 14,
   "metadata": {},
   "outputs": [
    {
     "name": "stdout",
     "output_type": "stream",
     "text": [
      "1 C ° =  1 C °\n",
      "1 C° =  274.15 K°\n",
      "1 C° =  33.8 F°\n",
      "1 K° =  -272.15 C°\n",
      "1 K ° =  1 K °\n",
      "1 K° =  -457.86999999999995 F°\n",
      "1 F° =  -17.22222222222222 C°\n",
      "1 F° =  255.92777777777775 K°\n",
      "1 F ° =  1 F °\n"
     ]
    }
   ],
   "source": [
    "Unidades=[\"C\",\"K\",\"F\"]\n",
    "for Org in Unidades:\n",
    "    for Dest in Unidades:\n",
    "        Main(1,Org,Dest)"
   ]
  },
  {
   "attachments": {},
   "cell_type": "markdown",
   "metadata": {},
   "source": [
    "6) Armar una función que devuelva el factorial de un número. Tener en cuenta que el usuario puede equivocarse y enviar de parámetro un número no entero o negativo"
   ]
  },
  {
   "cell_type": "code",
   "execution_count": 15,
   "metadata": {},
   "outputs": [],
   "source": [
    "def Factorial(Num):\n",
    "    if(type(Num)==int):\n",
    "        if(Num>=0):\n",
    "            if(Num<=1):\n",
    "                print(Num,\"! = \",1)\n",
    "            else:\n",
    "                Fact=1\n",
    "                for K in range(2,Num+1):\n",
    "                    Fact=Fact*K\n",
    "                print(Num,\"! = \",Fact)\n",
    "        else:\n",
    "            print(\"El número debe ser mayor o igual a cero\")\n",
    "    else:\n",
    "        print(\"El número debe ser entero positivo o cero\")"
   ]
  },
  {
   "cell_type": "code",
   "execution_count": 17,
   "metadata": {},
   "outputs": [
    {
     "name": "stdout",
     "output_type": "stream",
     "text": [
      "5 ! =  120\n",
      "El número debe ser mayor o igual a cero\n",
      "El número debe ser entero positivo o cero\n",
      "El número debe ser entero positivo o cero\n"
     ]
    }
   ],
   "source": [
    "Factorial(5)\n",
    "Factorial(-2)\n",
    "Factorial(1.23)\n",
    "Factorial('6')"
   ]
  }
 ],
 "metadata": {
  "interpreter": {
   "hash": "c85384e4cb51c8b72350f3a8712cc8351fdc3955e32a27f9b60c6242ab125f01"
  },
  "kernelspec": {
   "display_name": "Python 3 (ipykernel)",
   "language": "python",
   "name": "python3"
  },
  "language_info": {
   "codemirror_mode": {
    "name": "ipython",
    "version": 3
   },
   "file_extension": ".py",
   "mimetype": "text/x-python",
   "name": "python",
   "nbconvert_exporter": "python",
   "pygments_lexer": "ipython3",
   "version": "3.12.0"
  }
 },
 "nbformat": 4,
 "nbformat_minor": 4
}
